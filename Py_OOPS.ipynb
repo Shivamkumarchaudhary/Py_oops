{
 "cells": [
  {
   "cell_type": "markdown",
   "id": "4f48af9e",
   "metadata": {},
   "source": [
    "###  Creating a class and defining class"
   ]
  },
  {
   "cell_type": "code",
   "execution_count": 1,
   "id": "bc6962df",
   "metadata": {},
   "outputs": [
    {
     "name": "stdout",
     "output_type": "stream",
     "text": [
      "200\n"
     ]
    }
   ],
   "source": [
    "class Teddy:\n",
    "    quantity = 200\n",
    "teddy = Teddy()\n",
    "print(teddy.quantity)"
   ]
  },
  {
   "cell_type": "markdown",
   "id": "11fd2f31",
   "metadata": {},
   "source": [
    "###  class  \n",
    "         data + function --> class\n",
    "         data --> Attribute\n",
    "         function --> method\n",
    "         \n",
    "quantity --> attribute name\n",
    "\n",
    "teddy --> object name"
   ]
  },
  {
   "cell_type": "markdown",
   "id": "46d9e32b",
   "metadata": {},
   "source": [
    "###  Instance Attributes and constructor"
   ]
  },
  {
   "cell_type": "code",
   "execution_count": 3,
   "id": "741332ce",
   "metadata": {},
   "outputs": [
    {
     "name": "stdout",
     "output_type": "stream",
     "text": [
      "<__main__.Teddy object at 0x000002DAB6B8FD30>\n"
     ]
    }
   ],
   "source": [
    "class Teddy:\n",
    "    quantity = 200\n",
    "    def __init__(self,name,color):\n",
    "        self.name = name\n",
    "        self.color = color\n",
    "        \n",
    "teddy = Teddy(\"Ted\",\"Red\")\n",
    "print(teddy)"
   ]
  },
  {
   "cell_type": "code",
   "execution_count": 4,
   "id": "afcefa16",
   "metadata": {},
   "outputs": [
    {
     "name": "stdout",
     "output_type": "stream",
     "text": [
      "Ted\n",
      "Red\n"
     ]
    }
   ],
   "source": [
    "class Teddy:\n",
    "    quantity = 200\n",
    "    def __init__(self,name,color):\n",
    "        self.name = name\n",
    "        self.color = color\n",
    "        \n",
    "teddy = Teddy(\"Ted\",\"Red\")\n",
    "print(teddy.name)\n",
    "print(teddy.color)"
   ]
  },
  {
   "cell_type": "code",
   "execution_count": 8,
   "id": "c3e62878",
   "metadata": {},
   "outputs": [
    {
     "name": "stdout",
     "output_type": "stream",
     "text": [
      "Ted\n",
      "Red\n",
      "200\n",
      "500\n"
     ]
    }
   ],
   "source": [
    "class Teddy:\n",
    "    quantity = 200\n",
    "    price = 500\n",
    "    def __init__(self,name,color):\n",
    "        self.name = name     # self.name = name , teddy.name = name\n",
    "        self.color = color\n",
    "        \n",
    "teddy = Teddy(\"Ted\",\"Red\")\n",
    "print(teddy.name)\n",
    "print(teddy.color)\n",
    "print(teddy.quantity)\n",
    "print(teddy.price)"
   ]
  },
  {
   "cell_type": "code",
   "execution_count": 11,
   "id": "80099f77",
   "metadata": {},
   "outputs": [
    {
     "name": "stdout",
     "output_type": "stream",
     "text": [
      "Ted\n",
      "Red\n",
      "200\n",
      "500\n",
      "Rob\n",
      "Brown\n",
      "200\n",
      "500\n"
     ]
    }
   ],
   "source": [
    "class Teddy:\n",
    "    quantity = 200    # class Attribute\n",
    "    price = 500\n",
    "    def __init__(self,name,color):     # instance attribute\n",
    "        self.name = name     # self.name = name , teddy.name = name\n",
    "        self.color = color    # self object\n",
    "        \n",
    "teddy = Teddy(\"Ted\",\"Red\")\n",
    "print(teddy.name)\n",
    "print(teddy.color)\n",
    "print(teddy.quantity)\n",
    "print(teddy.price)\n",
    "\n",
    "teddy1 = Teddy(\"Rob\",\"Brown\")\n",
    "print(teddy1.name)\n",
    "print(teddy1.color)\n",
    "print(teddy1.quantity)\n",
    "print(teddy1.price)"
   ]
  },
  {
   "cell_type": "markdown",
   "id": "77330ced",
   "metadata": {},
   "source": [
    "###  Implementing Methods in Object Oriented Program"
   ]
  },
  {
   "cell_type": "code",
   "execution_count": 3,
   "id": "91b4cc52",
   "metadata": {},
   "outputs": [
    {
     "name": "stdout",
     "output_type": "stream",
     "text": [
      "Ted\n",
      "Red\n",
      "This is a Method\n",
      "Ted\n",
      "white\n"
     ]
    }
   ],
   "source": [
    "class Teddy:\n",
    "    quantity = 200\n",
    "    def __init__(self,name,color):\n",
    "        self.name = name\n",
    "        self.color = color\n",
    "        \n",
    "    def change_color(self):\n",
    "        print(\"This is a Method\")\n",
    "        self.color = \"white\"\n",
    "        \n",
    "teddy = Teddy(\"Ted\",\"Red\")\n",
    "print(teddy.name)\n",
    "print(teddy.color)\n",
    "\n",
    "teddy.change_color()\n",
    "print(teddy.name)\n",
    "print(teddy.color)\n",
    "        \n",
    "        "
   ]
  },
  {
   "cell_type": "code",
   "execution_count": 4,
   "id": "e98f2a6e",
   "metadata": {},
   "outputs": [
    {
     "name": "stdout",
     "output_type": "stream",
     "text": [
      "Ted\n",
      "Red\n",
      "200\n",
      "This is a Method\n",
      "Ted\n",
      "white\n",
      "200\n"
     ]
    }
   ],
   "source": [
    "class Teddy:\n",
    "    quantity = 200\n",
    "    \n",
    "    def __init__(self,name,color):\n",
    "        self.name = name\n",
    "        self.color = color\n",
    "        \n",
    "    def change_color(self,color):\n",
    "        print(\"This is a Method\")\n",
    "        self.color = color\n",
    "        \n",
    "teddy = Teddy(\"Ted\",\"Red\")\n",
    "print(teddy.name)\n",
    "print(teddy.color)\n",
    "print(teddy.quantity)\n",
    "\n",
    "teddy.change_color(\"white\")\n",
    "print(teddy.name)\n",
    "print(teddy.color)\n",
    "print(teddy.quantity)\n",
    "        \n",
    "    "
   ]
  },
  {
   "cell_type": "code",
   "execution_count": 5,
   "id": "e330d23d",
   "metadata": {},
   "outputs": [
    {
     "name": "stdout",
     "output_type": "stream",
     "text": [
      "Ted\n",
      "Red\n",
      "This is a Method\n",
      "Ted\n",
      "white\n",
      "This is a Method\n",
      "KitKat\n",
      "white\n"
     ]
    }
   ],
   "source": [
    "class Teddy:\n",
    "    quantity = 200\n",
    "    def __init__(self,name,color):\n",
    "        self.name = name\n",
    "        self.color = color\n",
    "        \n",
    "    def change_color(self):\n",
    "        print(\"This is a Method\")\n",
    "        self.color = \"white\"\n",
    "        \n",
    "    def change_name(self):\n",
    "        print(\"This is a Method\")\n",
    "        self.name = \"KitKat\"\n",
    "        \n",
    "teddy = Teddy(\"Ted\",\"Red\")\n",
    "print(teddy.name)\n",
    "print(teddy.color)\n",
    "\n",
    "teddy.change_color()\n",
    "print(teddy.name)\n",
    "print(teddy.color)\n",
    "\n",
    "teddy.change_name()\n",
    "print(teddy.name)\n",
    "print(teddy.color)\n",
    "        "
   ]
  },
  {
   "cell_type": "code",
   "execution_count": 6,
   "id": "54b00684",
   "metadata": {},
   "outputs": [
    {
     "name": "stdout",
     "output_type": "stream",
     "text": [
      "Ted\n",
      "Red\n",
      "This is a Method\n",
      "Ted\n",
      "white\n",
      "This is a Method\n",
      "KitKat\n",
      "white\n"
     ]
    }
   ],
   "source": [
    "class Teddy:\n",
    "    quantity = 200\n",
    "    def __init__(self,name,color):\n",
    "        self.name = name\n",
    "        self.color = color\n",
    "        \n",
    "    def change_color(self):\n",
    "        print(\"This is a Method\")\n",
    "        self.color = \"white\"\n",
    "        \n",
    "    def change_name(self,name):\n",
    "        print(\"This is a Method\")\n",
    "        self.name = name\n",
    "        \n",
    "teddy = Teddy(\"Ted\",\"Red\")\n",
    "print(teddy.name)\n",
    "print(teddy.color)\n",
    "\n",
    "teddy.change_color()\n",
    "print(teddy.name)\n",
    "print(teddy.color)\n",
    "\n",
    "teddy.change_name(\"KitKat\")\n",
    "print(teddy.name)\n",
    "print(teddy.color)"
   ]
  },
  {
   "cell_type": "markdown",
   "id": "7dc036c2",
   "metadata": {},
   "source": [
    "###  Function Based vs OOP Way of Writing Code"
   ]
  },
  {
   "cell_type": "code",
   "execution_count": 8,
   "id": "8e58322a",
   "metadata": {},
   "outputs": [
    {
     "name": "stdout",
     "output_type": "stream",
     "text": [
      "Enter name : Rajeev\n",
      "enter age : 21\n",
      "Rajeev\n",
      "21\n"
     ]
    }
   ],
   "source": [
    "def abc():\n",
    "    name = input(\"Enter name : \")\n",
    "    age = input(\"enter age : \")\n",
    "    print(name)\n",
    "    print(age)\n",
    "abc()"
   ]
  },
  {
   "cell_type": "code",
   "execution_count": 9,
   "id": "9c15bc51",
   "metadata": {},
   "outputs": [
    {
     "name": "stdout",
     "output_type": "stream",
     "text": [
      "Enter nameRajeev\n",
      "Enter age21\n",
      "Rajeev\n",
      "21\n"
     ]
    }
   ],
   "source": [
    "class Student:\n",
    "    def __init__(self,name,age):\n",
    "        self.name = name\n",
    "        self.age = age\n",
    "        \n",
    "    def get_data(self):\n",
    "        self.name = input(\"Enter name\")\n",
    "        self.age = input(\"Enter age\")\n",
    "        \n",
    "    def put_data(self):\n",
    "        print(self.name)\n",
    "        print(self.age)\n",
    "        \n",
    "student1 = Student(\"\",\"\")\n",
    "student1.get_data()\n",
    "student1.put_data()"
   ]
  },
  {
   "cell_type": "code",
   "execution_count": 10,
   "id": "d601c343",
   "metadata": {},
   "outputs": [
    {
     "name": "stdout",
     "output_type": "stream",
     "text": [
      "Enter nameRajeev\n",
      "Enter age21\n",
      "Rajeev\n",
      "21\n"
     ]
    }
   ],
   "source": [
    "class Student:\n",
    "    def __init__(self,name,age):\n",
    "        self.name = name\n",
    "        self.age = age\n",
    "        \n",
    "    def get_data(self,name,age):\n",
    "        self.name = name\n",
    "        self.age = age\n",
    "        \n",
    "    def put_data(self):\n",
    "        print(self.name)\n",
    "        print(self.age)\n",
    "        \n",
    "student1 = Student(\"\",\"\")\n",
    "name = input(\"Enter name\")\n",
    "age = input(\"Enter age\")\n",
    "student1.get_data(name,age)\n",
    "student1.put_data()"
   ]
  },
  {
   "cell_type": "markdown",
   "id": "370d18a9",
   "metadata": {},
   "source": [
    "### Inheritance"
   ]
  },
  {
   "cell_type": "code",
   "execution_count": 6,
   "id": "227500d5",
   "metadata": {},
   "outputs": [
    {
     "name": "stdout",
     "output_type": "stream",
     "text": [
      "Rajeev\n",
      "22\n",
      "Enter nameUday\n",
      "Enter age21\n",
      "Uday\n",
      "21\n",
      "Uday\n",
      "21\n",
      "This is a science method\n"
     ]
    }
   ],
   "source": [
    "class Student:\n",
    "    def __init__(self,name,age):\n",
    "        self.name = name\n",
    "        self.age = age\n",
    "        \n",
    "    def get_data(self,name,age):\n",
    "        self.name = name\n",
    "        self.age = age\n",
    "        \n",
    "    def put_data(self):\n",
    "        print(self.name)\n",
    "        print(self.age)\n",
    "        \n",
    "class Sciencestudent:\n",
    "    def science(self):\n",
    "        print(\"This is a science method\")\n",
    "        \n",
    "        \n",
    "student1 = Student(\"Rajeev\",\"22\")\n",
    "print(student1.name)\n",
    "print(student1.age)\n",
    "\n",
    "name = input(\"Enter name\")\n",
    "age = input(\"Enter age\")\n",
    "student1.get_data(name,age)\n",
    "print(student1.name)\n",
    "print(student1.age)\n",
    "\n",
    "student1.put_data()\n",
    "\n",
    "science1 = Sciencestudent()\n",
    "science1.science()"
   ]
  },
  {
   "cell_type": "code",
   "execution_count": 3,
   "id": "8c7849ab",
   "metadata": {},
   "outputs": [
    {
     "name": "stdout",
     "output_type": "stream",
     "text": [
      "Enter nameRajeev\n",
      "Enter age21\n",
      "This is a science student\n"
     ]
    }
   ],
   "source": [
    "class Student:\n",
    "    def __init__(self,name,age):\n",
    "        self.name = name\n",
    "        self.age = age\n",
    "        \n",
    "    def get_data(self):\n",
    "        self.name =input(\"Enter name\")\n",
    "        self.age = input(\"Enter age\")\n",
    "        \n",
    "    def put_data(self):\n",
    "        print(self.name)\n",
    "        print(self.age)\n",
    "        \n",
    "class ScienceStudent(Student):\n",
    "    def science(self):\n",
    "        print(\"This is a science student\")\n",
    "        \n",
    "a = ScienceStudent(\"\",\"\")\n",
    "a.get_data()\n",
    "a.science()\n",
    "    "
   ]
  },
  {
   "cell_type": "code",
   "execution_count": 4,
   "id": "5ad6eb7f",
   "metadata": {},
   "outputs": [
    {
     "name": "stdout",
     "output_type": "stream",
     "text": [
      "Enter nameRajeev\n",
      "Enter age21\n",
      "This is a science student\n",
      "Rajeev\n",
      "21\n"
     ]
    }
   ],
   "source": [
    "class Student:\n",
    "    def __init__(self,name,age):\n",
    "        self.name = name\n",
    "        self.age = age\n",
    "        \n",
    "    def get_data(self):\n",
    "        self.name =input(\"Enter name\")\n",
    "        self.age = input(\"Enter age\")\n",
    "        \n",
    "    def put_data(self):\n",
    "        print(self.name)\n",
    "        print(self.age)\n",
    "        \n",
    "class ScienceStudent(Student):\n",
    "    def science(self):\n",
    "        print(\"This is a science student\")\n",
    "        \n",
    "a = ScienceStudent(\"Uday\",\"22\")\n",
    "a.get_data()\n",
    "a.science()\n",
    "a.put_data()\n",
    "    "
   ]
  },
  {
   "cell_type": "markdown",
   "id": "ba03f7b2",
   "metadata": {},
   "source": [
    "###  Multiple Inheritance"
   ]
  },
  {
   "cell_type": "code",
   "execution_count": 5,
   "id": "9a0abc32",
   "metadata": {},
   "outputs": [
    {
     "name": "stdout",
     "output_type": "stream",
     "text": [
      "This is a method from A\n",
      "This is a method from B\n",
      "This is a method from C\n"
     ]
    }
   ],
   "source": [
    "class A:\n",
    "    def a_method(self):\n",
    "        print(\"This is a method from A\")\n",
    "        \n",
    "class B:\n",
    "    def b_method(self):\n",
    "        print(\"This is a method from B\")\n",
    "        \n",
    "class C(A,B):\n",
    "    def c_method(self):\n",
    "        print(\"This is a method from C\")\n",
    "        \n",
    "c_object = C()\n",
    "c_object.a_method()\n",
    "c_object.b_method()\n",
    "c_object.c_method()"
   ]
  },
  {
   "cell_type": "markdown",
   "id": "0ca78df7",
   "metadata": {},
   "source": [
    "### Multi-Level Inheritance"
   ]
  },
  {
   "cell_type": "code",
   "execution_count": 6,
   "id": "710eae81",
   "metadata": {},
   "outputs": [
    {
     "name": "stdout",
     "output_type": "stream",
     "text": [
      "This is a method from A\n",
      "This is a method from B\n",
      "This is a method from C\n"
     ]
    }
   ],
   "source": [
    "class A:\n",
    "    def a_method(self):\n",
    "        print(\"This is a method from A\")\n",
    "        \n",
    "class B(A):\n",
    "    def b_method(self):\n",
    "        print(\"This is a method from B\")\n",
    "        \n",
    "class C(B):\n",
    "    def c_method(self):\n",
    "        print(\"This is a method from C\")\n",
    "        \n",
    "c_object = C()\n",
    "c_object.a_method()\n",
    "c_object.b_method()\n",
    "c_object.c_method()"
   ]
  },
  {
   "cell_type": "markdown",
   "id": "71b85d50",
   "metadata": {},
   "source": [
    "### Recursion"
   ]
  },
  {
   "cell_type": "code",
   "execution_count": 7,
   "id": "22f8525e",
   "metadata": {},
   "outputs": [
    {
     "name": "stdout",
     "output_type": "stream",
     "text": [
      "120\n"
     ]
    }
   ],
   "source": [
    "def factorial(x):\n",
    "    if(x == 1):\n",
    "        return 1\n",
    "    else:\n",
    "        return x*(factorial(x-1))\n",
    "result = factorial(5)\n",
    "print(result)"
   ]
  },
  {
   "cell_type": "markdown",
   "id": "9e353d50",
   "metadata": {},
   "source": [
    "###  Sets"
   ]
  },
  {
   "cell_type": "code",
   "execution_count": 8,
   "id": "48e79c92",
   "metadata": {},
   "outputs": [
    {
     "name": "stdout",
     "output_type": "stream",
     "text": [
      "{1, 2, 3, 4, 5}\n"
     ]
    }
   ],
   "source": [
    "number = {1,2,3,4,5}\n",
    "print(number)"
   ]
  },
  {
   "cell_type": "code",
   "execution_count": 9,
   "id": "bf7c545f",
   "metadata": {},
   "outputs": [
    {
     "name": "stdout",
     "output_type": "stream",
     "text": [
      "True\n"
     ]
    }
   ],
   "source": [
    "number = {1,2,3,4,5}\n",
    "print(5 in number)"
   ]
  },
  {
   "cell_type": "code",
   "execution_count": 10,
   "id": "1a933b04",
   "metadata": {},
   "outputs": [
    {
     "name": "stdout",
     "output_type": "stream",
     "text": [
      "{1, 2, 3, 4, 5, 9}\n"
     ]
    }
   ],
   "source": [
    "number = {1,2,3,4,5}\n",
    "number.add(9)\n",
    "print(number)"
   ]
  },
  {
   "cell_type": "code",
   "execution_count": 11,
   "id": "9a4d4dfa",
   "metadata": {},
   "outputs": [
    {
     "name": "stdout",
     "output_type": "stream",
     "text": [
      "{1, 2, 3, 5}\n"
     ]
    }
   ],
   "source": [
    "number = {1,2,3,4,5}\n",
    "number.remove(4)\n",
    "print(number)"
   ]
  },
  {
   "cell_type": "code",
   "execution_count": 12,
   "id": "3ce231ec",
   "metadata": {},
   "outputs": [
    {
     "name": "stdout",
     "output_type": "stream",
     "text": [
      "{1, 2, 3, 4, 5, 6, 7, 8}\n"
     ]
    }
   ],
   "source": [
    "num1 = {1,2,3,4,5}\n",
    "num2 = {4,5,6,7,8}\n",
    "print(num1 | num2)"
   ]
  },
  {
   "cell_type": "code",
   "execution_count": 13,
   "id": "8429aa02",
   "metadata": {},
   "outputs": [
    {
     "name": "stdout",
     "output_type": "stream",
     "text": [
      "{4, 5}\n"
     ]
    }
   ],
   "source": [
    "num1 = {1,2,3,4,5}\n",
    "num2 = {4,5,6,7,8}\n",
    "print(num1 & num2)"
   ]
  },
  {
   "cell_type": "code",
   "execution_count": 14,
   "id": "cd65268a",
   "metadata": {},
   "outputs": [
    {
     "name": "stdout",
     "output_type": "stream",
     "text": [
      "{1, 2, 3}\n"
     ]
    }
   ],
   "source": [
    "num1 = {1,2,3,4,5}\n",
    "num2 = {4,5,6,7,8}\n",
    "print(num1 - num2)"
   ]
  },
  {
   "cell_type": "markdown",
   "id": "f662ffa3",
   "metadata": {},
   "source": [
    "###  Itertools"
   ]
  },
  {
   "cell_type": "code",
   "execution_count": 17,
   "id": "adb055e5",
   "metadata": {},
   "outputs": [
    {
     "name": "stdout",
     "output_type": "stream",
     "text": [
      "3\n",
      "4\n",
      "5\n",
      "6\n",
      "7\n",
      "8\n",
      "9\n",
      "10\n",
      "11\n",
      "12\n",
      "13\n",
      "14\n",
      "15\n",
      "16\n",
      "17\n",
      "18\n",
      "19\n",
      "20\n"
     ]
    }
   ],
   "source": [
    "from itertools import count\n",
    "\n",
    "for i in count(3):\n",
    "    print(i)\n",
    "    \n",
    "    if i>= 20:\n",
    "        break"
   ]
  },
  {
   "cell_type": "code",
   "execution_count": 19,
   "id": "31323587",
   "metadata": {},
   "outputs": [
    {
     "name": "stdout",
     "output_type": "stream",
     "text": [
      "[0, 1, 3, 6, 10, 15, 21, 28]\n"
     ]
    }
   ],
   "source": [
    "from itertools import accumulate\n",
    "\n",
    "numbers = list(accumulate(range(8)))\n",
    "print(numbers)"
   ]
  },
  {
   "cell_type": "code",
   "execution_count": 20,
   "id": "f8b855c6",
   "metadata": {},
   "outputs": [
    {
     "name": "stdout",
     "output_type": "stream",
     "text": [
      "[0, 1, 3, 6, 10, 15, 21, 28]\n",
      "[0, 1, 3, 6]\n"
     ]
    }
   ],
   "source": [
    "from itertools import accumulate, takewhile\n",
    "\n",
    "number = list(accumulate(range(8)))\n",
    "print(number)\n",
    "print(list(takewhile(lambda x: x<=6,number)))"
   ]
  },
  {
   "cell_type": "markdown",
   "id": "d49f563f",
   "metadata": {},
   "source": [
    "###  Data Hiding"
   ]
  },
  {
   "cell_type": "code",
   "execution_count": 2,
   "id": "eb945b34",
   "metadata": {},
   "outputs": [
    {
     "name": "stdout",
     "output_type": "stream",
     "text": [
      "5\n"
     ]
    }
   ],
   "source": [
    "class Myclass:\n",
    "    __hiddenvariable = 0\n",
    "    \n",
    "    def add(self,increment):\n",
    "        self.__hiddenvariable+= increment\n",
    "        print(self.__hiddenvariable)\n",
    "        \n",
    "objectone = Myclass()\n",
    "objectone.add(5)\n"
   ]
  },
  {
   "cell_type": "markdown",
   "id": "a7370e16",
   "metadata": {},
   "source": [
    "### Operator Overloading"
   ]
  },
  {
   "cell_type": "code",
   "execution_count": 3,
   "id": "e20ab05d",
   "metadata": {},
   "outputs": [
    {
     "name": "stdout",
     "output_type": "stream",
     "text": [
      "30\n"
     ]
    }
   ],
   "source": [
    "class Book:\n",
    "    def __init__(self,price):\n",
    "        self.price = price\n",
    "        \n",
    "book1 = Book(10)\n",
    "book2 = Book(20)\n",
    "\n",
    "\n",
    "total_price = book1.price + book2.price\n",
    "print(total_price)\n",
    "    \n",
    "    \n",
    "        "
   ]
  },
  {
   "cell_type": "code",
   "execution_count": null,
   "id": "3cd51ded",
   "metadata": {},
   "outputs": [],
   "source": []
  }
 ],
 "metadata": {
  "kernelspec": {
   "display_name": "Python 3 (ipykernel)",
   "language": "python",
   "name": "python3"
  },
  "language_info": {
   "codemirror_mode": {
    "name": "ipython",
    "version": 3
   },
   "file_extension": ".py",
   "mimetype": "text/x-python",
   "name": "python",
   "nbconvert_exporter": "python",
   "pygments_lexer": "ipython3",
   "version": "3.9.12"
  }
 },
 "nbformat": 4,
 "nbformat_minor": 5
}
